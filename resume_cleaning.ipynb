{
 "cells": [
  {
   "cell_type": "code",
   "execution_count": null,
   "metadata": {},
   "outputs": [],
   "source": [
    "import pandas as pd\n",
    "from tqdm import tqdm\n",
    "import pickle\n",
    "import resume_preprocessing_util\n",
    "from Skill_extractor import Skill_extractor\n",
    "from education_extractor import Education_extractor"
   ]
  },
  {
   "cell_type": "code",
   "execution_count": null,
   "metadata": {},
   "outputs": [],
   "source": [
    "resume_df = pd.read_csv('dataset/resume_raw_data.csv', index_col=0)"
   ]
  },
  {
   "cell_type": "code",
   "execution_count": null,
   "metadata": {},
   "outputs": [],
   "source": [
    "resume_df"
   ]
  },
  {
   "cell_type": "code",
   "execution_count": null,
   "metadata": {},
   "outputs": [],
   "source": [
    "resume_df['resume'] = resume_df['resume'].apply(lambda x: x.lower())\n",
    "resume_df['tokens'] = resume_df['resume'].apply(lambda x: resume_preprocessing_util.tokenize(x))\n",
    "\n",
    "flag_list = ['education', 'summary', 'experience']\n",
    "flag_dict = {'education' : [['educational', 'background'],\n",
    "                            'education', 'educational', 'academic'], \n",
    "             'summary' : ['summary'], \n",
    "             'experience' : [['professional', 'experience'], \n",
    "                             ['work', 'experience'], \n",
    "                             ['work', 'history'],\n",
    "                             'experience']}\n",
    "for flag in flag_list:\n",
    "    resume_df[f'{flag}_start_index'] = resume_df['tokens'].apply(lambda x: resume_preprocessing_util.find_index_in_tokens(x, flag_dict[flag]))\n",
    "for flag in flag_list:\n",
    "    resume_df[f'{flag}_end_index'] = resume_df.apply(lambda x: resume_preprocessing_util.find_end_index(x, flag, flag_list), axis=1)\n",
    "for flag in flag_list:\n",
    "    resume_df[f'{flag}_tokens'] = resume_df.apply(lambda x: resume_preprocessing_util.split_part(x, flag), axis=1)\n",
    "    \n",
    "resume_df['education_section'] = resume_df['education_tokens'].apply(lambda x: ' '.join(x))\n",
    "resume_df['experience_section'] = resume_df['experience_tokens'].apply(lambda x: ' '.join(x))\n",
    "resume_df['year_experience'] = resume_df.apply(lambda x: resume_preprocessing_util.find_year_experience(x['tokens'], x['experience_start_index'], x['experience_end_index']), axis=1)\n",
    "\n",
    "resume_df"
   ]
  },
  {
   "cell_type": "code",
   "execution_count": null,
   "metadata": {},
   "outputs": [],
   "source": [
    "skill_extractor = Skill_extractor()\n",
    "for i in tqdm(range(len(resume_df['experience_section']))):\n",
    "    result =  skill_extractor.skill_extract(resume_df['experience_section'][i])\n",
    "    with open(f'resume_skills/{i}.pickle', 'wb') as f:\n",
    "        pickle.dump(result, f, protocol=pickle.HIGHEST_PROTOCOL)"
   ]
  },
  {
   "cell_type": "code",
   "execution_count": null,
   "metadata": {},
   "outputs": [],
   "source": [
    "all_skill_dict = []\n",
    "for i in tqdm(range(len(resume_df['experience_section']))):\n",
    "    with open(f'resume_skills/{i}.pickle', 'rb') as f:\n",
    "        temp = pickle.load(f)\n",
    "        all_skill_dict.append(temp)\n",
    "resume_df['all_skill_dict'] = all_skill_dict\n",
    "resume_df['hard_skills'] = resume_df['all_skill_dict'].apply(lambda x: x['Hard Skill'] if 'Hard Skill' in x else [])\n",
    "resume_df['soft_skills'] = resume_df['all_skill_dict'].apply(lambda x: x['Soft Skill'] if 'Soft Skill' in x else [])"
   ]
  },
  {
   "cell_type": "code",
   "execution_count": null,
   "metadata": {},
   "outputs": [],
   "source": [
    "education_extractor = Education_extractor()\n",
    "for i in tqdm(range(len(resume_df['education_section']))):\n",
    "    result =  education_extractor.extract_education_features(resume_df['education_section'][i])\n",
    "    with open(f'resume_edu/{i}.pickle', 'wb') as f:\n",
    "        pickle.dump(result, f, protocol=pickle.HIGHEST_PROTOCOL)"
   ]
  },
  {
   "cell_type": "code",
   "execution_count": null,
   "metadata": {},
   "outputs": [],
   "source": [
    "all_edu_dict = []\n",
    "for i in tqdm(range(len(resume_df['education_section']))):\n",
    "    with open(f'resume_edu/{i}.pickle', 'rb') as f:\n",
    "        temp = pickle.load(f)\n",
    "        all_edu_dict.append(temp)\n",
    "resume_df['all_edu_dict'] = all_edu_dict\n",
    "resume_df['majors'] = resume_df['all_edu_dict'].apply(lambda x: x['majors'] if 'majors' in x else [])\n",
    "resume_df['degrees'] = resume_df['all_edu_dict'].apply(lambda x: x['degrees'] if 'degrees' in x else [])\n",
    "resume_df['org'] = resume_df['all_edu_dict'].apply(lambda x: x['org'] if 'org' in x else [])\n",
    "resume_df['org_rank'] = resume_df['all_edu_dict'].apply(lambda x: x['org_rank'] if 'org_rank' in x else -1)"
   ]
  },
  {
   "cell_type": "code",
   "execution_count": null,
   "metadata": {},
   "outputs": [],
   "source": [
    "resume_df"
   ]
  },
  {
   "cell_type": "code",
   "execution_count": null,
   "metadata": {},
   "outputs": [],
   "source": [
    "# resume_df.to_csv(\"dataset/resume_final_data.csv\")"
   ]
  }
 ],
 "metadata": {
  "kernelspec": {
   "display_name": "Python 3",
   "language": "python",
   "name": "python3"
  },
  "language_info": {
   "codemirror_mode": {
    "name": "ipython",
    "version": 3
   },
   "file_extension": ".py",
   "mimetype": "text/x-python",
   "name": "python",
   "nbconvert_exporter": "python",
   "pygments_lexer": "ipython3",
   "version": "3.11.6"
  }
 },
 "nbformat": 4,
 "nbformat_minor": 2
}
