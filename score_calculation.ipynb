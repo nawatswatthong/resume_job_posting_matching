{
 "cells": [
  {
   "cell_type": "code",
   "execution_count": null,
   "metadata": {},
   "outputs": [],
   "source": [
    "import pandas as pd\n",
    "import numpy as np\n",
    "import ast\n",
    "import networkx as nx\n",
    "from tqdm import tqdm\n",
    "import seaborn as sns\n",
    "import matplotlib.pyplot as plt\n",
    "from network_scorer import create_count_df, create_network, resume_jd_matching_score"
   ]
  },
  {
   "cell_type": "code",
   "execution_count": null,
   "metadata": {},
   "outputs": [],
   "source": [
    "degree_dict = {}\n",
    "degree_dict[\"bachelor\"] = 1\n",
    "degree_dict[\"bs\"] = 1\n",
    "degree_dict[\"master\"] = 1\n",
    "degree_dict[\"ms\"] = 1\n",
    "degree_dict[\"phd\"] = 1\n",
    "degree_dict[\"doctor\"] = 1"
   ]
  },
  {
   "cell_type": "code",
   "execution_count": null,
   "metadata": {},
   "outputs": [],
   "source": [
    "resume_df = pd.read_csv('dataset/resume_final_data.csv', index_col = 0)\n",
    "resume_df['org_rank_factor'] = resume_df['org_rank'].apply(lambda x: 1+1/x if x > 0 else 1)\n",
    "resume_df['degrees_factor'] = resume_df['degrees'].apply(lambda x: degree_dict[x] if x in degree_dict else 1)\n",
    "resume_df['year_experience_factor'] = resume_df['year_experience'].apply(lambda x: 1.2 if x > 3 else 0.8)\n",
    "resume_df.head()"
   ]
  },
  {
   "cell_type": "code",
   "execution_count": null,
   "metadata": {},
   "outputs": [],
   "source": [
    "jd_df = pd.read_csv('dataset/job_description_final_data.csv', index_col = 0)\n",
    "jd_df.head()"
   ]
  },
  {
   "cell_type": "code",
   "execution_count": null,
   "metadata": {},
   "outputs": [],
   "source": [
    "#hard_skills\n",
    "col_name = 'hard_skills'\n",
    "hs_count_df, hs_all_value_list = create_count_df(jd_df, col_name)\n",
    "hs_network = create_network(hs_count_df)"
   ]
  },
  {
   "cell_type": "code",
   "execution_count": null,
   "metadata": {},
   "outputs": [],
   "source": [
    "#soft_skills\n",
    "col_name = 'soft_skills'\n",
    "ss_count_df, ss_all_value_list = create_count_df(jd_df, col_name)\n",
    "ss_network = create_network(ss_count_df)"
   ]
  },
  {
   "cell_type": "code",
   "execution_count": null,
   "metadata": {},
   "outputs": [],
   "source": [
    "#majors\n",
    "col_name = 'majors'\n",
    "mj_count_df, mj_all_value_list = create_count_df(jd_df, col_name)\n",
    "mj_network = create_network(mj_count_df)"
   ]
  },
  {
   "cell_type": "code",
   "execution_count": null,
   "metadata": {},
   "outputs": [],
   "source": [
    "# Hard skill graph visualization\n",
    "top_skill_idx = np.argsort(np.diag(hs_count_df))[::-1][:20]\n",
    "hs_count_df_temp = hs_count_df.iloc[top_skill_idx,top_skill_idx]\n",
    "top_skill_list = [hs_count_df.columns[i] for i in top_skill_idx]\n",
    "\n",
    "count_matrix = 10**np.array(hs_count_df_temp) + 0.00001\n",
    "node_sizes = np.diag(count_matrix)\n",
    "\n",
    "graph = nx.from_numpy_array(1/count_matrix, create_using=nx.DiGraph)\n",
    "pos = nx.spring_layout(graph, weight='weight', k=0.005)\n",
    "labeldict = {i: node for i, node in enumerate(top_skill_list)}\n",
    "widths = nx.get_edge_attributes(graph, 'weight')\n",
    "graph.remove_edges_from(nx.selfloop_edges(graph))\n",
    "\n",
    "nx.draw(graph, pos, labels=labeldict, with_labels = True,\n",
    "        node_size=[size * 0.00010 for size in node_sizes], node_color=\"#79adbb\", \n",
    "        font_size=6, font_color=\"black\", font_weight=\"bold\", edge_color=\"grey\", edgecolors='#79adbb',\n",
    "        linewidths=0.3, arrowsize=1, width=[1/w/3000000 for w in widths.values()])"
   ]
  },
  {
   "cell_type": "code",
   "execution_count": null,
   "metadata": {},
   "outputs": [],
   "source": [
    "# Soft skill graph visualization\n",
    "top_skill_idx = np.argsort(np.diag(ss_count_df))[::-1][:30]\n",
    "ss_count_df_temp = ss_count_df.iloc[top_skill_idx,top_skill_idx]\n",
    "top_skill_list = [ss_count_df.columns[i] for i in top_skill_idx]\n",
    "\n",
    "count_matrix = 10**np.array(ss_count_df_temp) + 0.00001\n",
    "node_sizes = np.diag(count_matrix)\n",
    "\n",
    "graph = nx.from_numpy_array(1/count_matrix, create_using=nx.DiGraph)\n",
    "pos = nx.spring_layout(graph, weight='weight', k=0.1)\n",
    "labeldict = {i: node for i, node in enumerate(top_skill_list)}\n",
    "widths = nx.get_edge_attributes(graph, 'weight')\n",
    "graph.remove_edges_from(nx.selfloop_edges(graph))\n",
    "\n",
    "nx.draw(graph, pos, labels=labeldict, with_labels = True,\n",
    "        node_size=[size * 0.0008 for size in node_sizes], node_color=\"#79adbb\", \n",
    "        font_size=6, font_color=\"black\", font_weight=\"bold\", edge_color=\"grey\", edgecolors='#79adbb',\n",
    "        linewidths=0.3, arrowsize=1, width=[1/w/600000 for w in widths.values()])"
   ]
  },
  {
   "cell_type": "code",
   "execution_count": null,
   "metadata": {},
   "outputs": [],
   "source": [
    "# Majors\n",
    "top_skill_idx = np.argsort(np.diag(mj_count_df))[::-1][:30]\n",
    "mj_count_df_temp = mj_count_df.iloc[top_skill_idx,top_skill_idx]\n",
    "top_skill_list = [mj_count_df.columns[i] for i in top_skill_idx]\n",
    "\n",
    "count_matrix = 2.71**np.array(mj_count_df_temp) + 0.00001\n",
    "node_sizes = np.diag(count_matrix)\n",
    "\n",
    "graph = nx.from_numpy_array(1/count_matrix, create_using=nx.DiGraph)\n",
    "pos = nx.spring_layout(graph, weight='weight', k=1)\n",
    "labeldict = {i: node for i, node in enumerate(top_skill_list)}\n",
    "widths = nx.get_edge_attributes(graph, 'weight')\n",
    "graph.remove_edges_from(nx.selfloop_edges(graph))\n",
    "\n",
    "plt.clf()\n",
    "nx.draw(graph, pos, labels=labeldict, with_labels = True,\n",
    "        node_size=[size * 3 for size in node_sizes], node_color=\"#79adbb\", \n",
    "        font_size=10, font_color=\"black\", font_weight=\"bold\", edge_color=\"grey\", edgecolors='#79adbb',\n",
    "        linewidths=0.3, arrowsize=1, width=[1/w/300 for w in widths.values()])"
   ]
  },
  {
   "cell_type": "code",
   "execution_count": null,
   "metadata": {},
   "outputs": [],
   "source": [
    "i = 502\n",
    "j = 502\n",
    "r_val_list = [val for val in set(ast.literal_eval(resume_df.iloc[i]['hard_skills']))]\n",
    "jd_val_list = [val for val in set(ast.literal_eval(jd_df.iloc[j]['hard_skills']))]\n",
    "print(\"Hard skill score:\", resume_jd_matching_score(\n",
    "    r_val_list, jd_val_list, hs_all_value_list, hs_network, hs_count_df, show_sub_score=True))\n",
    "r_val_list = [val for val in set(ast.literal_eval(resume_df.iloc[i]['soft_skills']))]\n",
    "jd_val_list = [val for val in set(ast.literal_eval(jd_df.iloc[j]['soft_skills']))]\n",
    "print(\"Soft skill score:\", resume_jd_matching_score(\n",
    "    r_val_list, jd_val_list, ss_all_value_list, ss_network, ss_count_df, show_sub_score=False))\n",
    "r_val_list = [val for val in set(ast.literal_eval(resume_df.iloc[i]['majors']))]\n",
    "jd_val_list = [val for val in set(ast.literal_eval(jd_df.iloc[j]['majors']))]\n",
    "print(\"Major score:\", resume_jd_matching_score(\n",
    "    r_val_list, jd_val_list, mj_all_value_list, mj_network, mj_count_df, show_sub_score=False))"
   ]
  },
  {
   "cell_type": "code",
   "execution_count": null,
   "metadata": {},
   "outputs": [],
   "source": [
    "i = 50\n",
    "j = 502\n",
    "r_val_list = [val for val in set(ast.literal_eval(resume_df.iloc[i]['hard_skills']))]\n",
    "jd_val_list = [val for val in set(ast.literal_eval(jd_df.iloc[j]['hard_skills']))]\n",
    "print(\"Hard skill score:\", resume_jd_matching_score(\n",
    "    r_val_list, jd_val_list, hs_all_value_list, hs_network, hs_count_df, show_sub_score=True))\n",
    "r_val_list = [val for val in set(ast.literal_eval(resume_df.iloc[i]['soft_skills']))]\n",
    "jd_val_list = [val for val in set(ast.literal_eval(jd_df.iloc[j]['soft_skills']))]\n",
    "print(\"Soft skill score:\", resume_jd_matching_score(\n",
    "    r_val_list, jd_val_list, ss_all_value_list, ss_network, ss_count_df, show_sub_score=False))\n",
    "r_val_list = [val for val in set(ast.literal_eval(resume_df.iloc[i]['majors']))]\n",
    "jd_val_list = [val for val in set(ast.literal_eval(jd_df.iloc[j]['majors']))]\n",
    "print(\"Major score:\", resume_jd_matching_score(\n",
    "    r_val_list, jd_val_list, mj_all_value_list, mj_network, mj_count_df, show_sub_score=False))"
   ]
  },
  {
   "cell_type": "code",
   "execution_count": null,
   "metadata": {},
   "outputs": [],
   "source": [
    "Scores = [135.90610916674015, 21.223488706513322,21.00757281141345, 135.90610916674015+21.223488706513322+21.00757281141345,\n",
    "          26.737758649753303, 22.48819290582201, 7.282761179605593, 26.737758649753303+22.48819290582201+7.282761179605593]\n",
    "Resume_flags = ['Resume 1'] * 4 + ['Resume 2'] * 4\n",
    "Methods = ['Hard Skills', 'Soft Skills', 'Majors', 'All Scores'] * 2\n",
    "sns.barplot(y=Scores, x=Methods, hue=Resume_flags, palette=\"ch:s=-2.5,r=1\")\n",
    "plt.title('Resume Performance')"
   ]
  },
  {
   "cell_type": "code",
   "execution_count": null,
   "metadata": {},
   "outputs": [],
   "source": [
    "method_list = ['hard_skills', 'soft_skills', 'majors']\n",
    "methods = method_list * resume_df.shape[0]\n",
    "scores = []\n",
    "for i in tqdm(range(resume_df.shape[0])):\n",
    "    for col in method_list:\n",
    "        r_val_list = resume_df.iloc[i][col]\n",
    "        j = 502\n",
    "        jd_val_list = jd_df.iloc[j][col]\n",
    "        r_val_list = [val for val in set(ast.literal_eval(r_val_list))]\n",
    "        jd_val_list = [val for val in set(ast.literal_eval(jd_val_list))]\n",
    "        if col == 'hard_skills':\n",
    "            scores.append(resume_jd_matching_score(\n",
    "                r_val_list, jd_val_list, hs_all_value_list, hs_network, hs_count_df)\n",
    "            )\n",
    "        elif col == 'soft_skills':\n",
    "            scores.append(resume_jd_matching_score(\n",
    "                r_val_list, jd_val_list, ss_all_value_list, ss_network, ss_count_df)\n",
    "            )\n",
    "        elif col == 'majors':\n",
    "            scores.append(resume_jd_matching_score(\n",
    "                r_val_list, jd_val_list, mj_all_value_list, mj_network, mj_count_df)\n",
    "            )"
   ]
  },
  {
   "cell_type": "code",
   "execution_count": null,
   "metadata": {},
   "outputs": [],
   "source": [
    "agg_scores = []\n",
    "agg = 0\n",
    "for i, score in enumerate(scores):\n",
    "    if i % 3 == 0:\n",
    "        org_rank_factor = resume_df.iloc[int(i/3)]['org_rank_factor']\n",
    "        degrees_factor =  resume_df.iloc[int(i/3)]['degrees_factor']\n",
    "        year_experience_factor = resume_df.iloc[int(i/3)]['year_experience_factor']\n",
    "        agg_scores.append(agg*org_rank_factor*degrees_factor*year_experience_factor)\n",
    "        agg = score\n",
    "    else: \n",
    "        agg += score"
   ]
  },
  {
   "cell_type": "code",
   "execution_count": null,
   "metadata": {},
   "outputs": [],
   "source": [
    "all_scores = scores+agg_scores\n",
    "all_methods = methods+['Total Score']*len(agg_scores)\n",
    "sns.boxplot(y=all_scores, x=all_methods, color='purple')"
   ]
  }
 ],
 "metadata": {
  "kernelspec": {
   "display_name": "Python 3",
   "language": "python",
   "name": "python3"
  },
  "language_info": {
   "codemirror_mode": {
    "name": "ipython",
    "version": 3
   },
   "file_extension": ".py",
   "mimetype": "text/x-python",
   "name": "python",
   "nbconvert_exporter": "python",
   "pygments_lexer": "ipython3",
   "version": "3.11.6"
  }
 },
 "nbformat": 4,
 "nbformat_minor": 2
}
