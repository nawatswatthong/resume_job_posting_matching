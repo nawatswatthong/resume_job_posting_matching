{
 "cells": [
  {
   "cell_type": "code",
   "execution_count": null,
   "metadata": {},
   "outputs": [],
   "source": [
    "import pandas as pd\n",
    "from tqdm import tqdm\n",
    "import pickle\n",
    "from htmllaundry import strip_markup\n",
    "from Skill_extractor import Skill_extractor\n",
    "from education_extractor import Education_extractor"
   ]
  },
  {
   "cell_type": "code",
   "execution_count": null,
   "metadata": {},
   "outputs": [],
   "source": [
    "jd = pd.read_csv(\"dataset/job_description_raw_data.csv\", index_col=0)"
   ]
  },
  {
   "cell_type": "code",
   "execution_count": null,
   "metadata": {},
   "outputs": [],
   "source": [
    "jd"
   ]
  },
  {
   "cell_type": "code",
   "execution_count": null,
   "metadata": {},
   "outputs": [],
   "source": [
    "jd['description_c'] = jd['description'].apply(lambda x: strip_markup(x))"
   ]
  },
  {
   "cell_type": "code",
   "execution_count": null,
   "metadata": {},
   "outputs": [],
   "source": [
    "skill_extractor = Skill_extractor()\n",
    "for i in tqdm(range(len(jd['description_c']))):\n",
    "    result =  skill_extractor.skill_extract(jd['description_c'][i])\n",
    "    with open(f'jd_skills/{i}.pickle', 'wb') as f:\n",
    "        pickle.dump(result, f, protocol=pickle.HIGHEST_PROTOCOL)"
   ]
  },
  {
   "cell_type": "code",
   "execution_count": null,
   "metadata": {},
   "outputs": [],
   "source": [
    "all_skill_dict = []\n",
    "for i in tqdm(range(len(jd['description_c']))):\n",
    "    with open(f'jd_skills/{i}.pickle', 'rb') as f:\n",
    "        temp = pickle.load(f)\n",
    "        all_skill_dict.append(temp)\n",
    "jd['all_skill_dict'] = all_skill_dict\n",
    "jd['hard_skills'] = jd['all_skill_dict'].apply(lambda x: x['Hard Skill'] if 'Hard Skill' in x else [])\n",
    "jd['soft_skills'] = jd['all_skill_dict'].apply(lambda x: x['Soft Skill'] if 'Soft Skill' in x else [])"
   ]
  },
  {
   "cell_type": "code",
   "execution_count": null,
   "metadata": {},
   "outputs": [],
   "source": [
    "education_extractor = Education_extractor()\n",
    "for i in tqdm(range(len(jd['description_c']))):\n",
    "    result =  education_extractor.extract_education_features(jd['description_c'][i])\n",
    "    with open(f'jd_edu/{i}.pickle', 'wb') as f:\n",
    "        pickle.dump(result, f, protocol=pickle.HIGHEST_PROTOCOL)"
   ]
  },
  {
   "cell_type": "code",
   "execution_count": null,
   "metadata": {},
   "outputs": [],
   "source": [
    "all_edu_dict = []\n",
    "for i in tqdm(range(len(jd['description_c']))):\n",
    "    with open(f'jd_edu/{i}.pickle', 'rb') as f:\n",
    "        temp = pickle.load(f)\n",
    "        all_edu_dict.append(temp)\n",
    "jd['all_edu_dict'] = all_edu_dict\n",
    "jd['majors'] = jd['all_edu_dict'].apply(lambda x: x['majors'] if 'majors' in x else [])\n",
    "jd['degrees'] = jd['all_edu_dict'].apply(lambda x: x['degrees'] if 'degrees' in x else [])\n",
    "jd['org'] = jd['all_edu_dict'].apply(lambda x: x['org'] if 'org' in x else [])\n",
    "jd['org_rank'] = jd['all_edu_dict'].apply(lambda x: x['org_rank'] if 'org_rank' in x else -1)"
   ]
  },
  {
   "cell_type": "code",
   "execution_count": null,
   "metadata": {},
   "outputs": [],
   "source": [
    "# jd.to_csv('dataset/job_description_final_data.csv')"
   ]
  }
 ],
 "metadata": {
  "kernelspec": {
   "display_name": "Python 3",
   "language": "python",
   "name": "python3"
  },
  "language_info": {
   "codemirror_mode": {
    "name": "ipython",
    "version": 3
   },
   "file_extension": ".py",
   "mimetype": "text/x-python",
   "name": "python",
   "nbconvert_exporter": "python",
   "pygments_lexer": "ipython3",
   "version": "3.9.13"
  }
 },
 "nbformat": 4,
 "nbformat_minor": 2
}
